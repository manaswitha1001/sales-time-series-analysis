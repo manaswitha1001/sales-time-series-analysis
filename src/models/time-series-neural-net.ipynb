{
 "cells": [
  {
   "cell_type": "code",
   "execution_count": 37,
   "metadata": {},
   "outputs": [
    {
     "name": "stdout",
     "output_type": "stream",
     "text": [
      "The autoreload extension is already loaded. To reload it, use:\n",
      "  %reload_ext autoreload\n"
     ]
    }
   ],
   "source": [
    "%load_ext autoreload\n",
    "%autoreload 2\n",
    "%matplotlib inline"
   ]
  },
  {
   "cell_type": "code",
   "execution_count": 23,
   "metadata": {},
   "outputs": [],
   "source": [
    "import pandas as pd\n",
    "import pandas_profiling\n",
    "\n",
    "import numpy as np\n",
    "\n",
    "import seaborn as sns\n",
    "sns.set()\n",
    "\n",
    "import plotly.plotly as py\n",
    "import plotly.graph_objs as go\n",
    "\n",
    "import matplotlib.pyplot as plt"
   ]
  },
  {
   "cell_type": "code",
   "execution_count": 3,
   "metadata": {},
   "outputs": [],
   "source": [
    "data = pd.read_csv(\"../../data/Sales_Multiseries_training.csv\")"
   ]
  },
  {
   "cell_type": "code",
   "execution_count": 7,
   "metadata": {},
   "outputs": [
    {
     "data": {
      "text/plain": [
       "714"
      ]
     },
     "execution_count": 7,
     "metadata": {},
     "output_type": "execute_result"
    }
   ],
   "source": [
    "# lets bring in the the week when the sale happened\n",
    "data[\"date_\"] = pd.to_datetime(arg=data.Date)\n",
    "sav_data = data[data.Store == \"Savannah\"]\n",
    "len(sav_data)"
   ]
  },
  {
   "cell_type": "code",
   "execution_count": 8,
   "metadata": {},
   "outputs": [
    {
     "data": {
      "text/plain": [
       "Timestamp('2012-07-01 00:00:00')"
      ]
     },
     "execution_count": 8,
     "metadata": {},
     "output_type": "execute_result"
    }
   ],
   "source": [
    "# lets bring in the the week when the sale happened\n",
    "min(sav_data[\"date_\"])"
   ]
  },
  {
   "cell_type": "code",
   "execution_count": 9,
   "metadata": {},
   "outputs": [
    {
     "data": {
      "text/plain": [
       "Timestamp('2014-06-14 00:00:00')"
      ]
     },
     "execution_count": 9,
     "metadata": {},
     "output_type": "execute_result"
    }
   ],
   "source": [
    "max(sav_data[\"date_\"])"
   ]
  },
  {
   "cell_type": "code",
   "execution_count": 14,
   "metadata": {},
   "outputs": [
    {
     "data": {
      "text/html": [
       "<iframe id=\"igraph\" scrolling=\"no\" style=\"border:none;\" seamless=\"seamless\" src=\"https://plot.ly/~srjit/8.embed\" height=\"525px\" width=\"100%\"></iframe>"
      ],
      "text/plain": [
       "<plotly.tools.PlotlyDisplay object>"
      ]
     },
     "execution_count": 14,
     "metadata": {},
     "output_type": "execute_result"
    }
   ],
   "source": [
    "data = [go.Scatter(x=sav_data[\"date_\"], y=sav_data[\"Sales\"], line = dict(color = '#17BECF'))]\n",
    "\n",
    "layout = dict(\n",
    "    title = \"Sales - Savannah\",\n",
    "    xaxis = dict(\n",
    "        range = ['2012-07-01','2014-06-14'])\n",
    ")\n",
    "\n",
    "fig = dict(data=data, layout=layout)\n",
    "\n",
    "py.iplot(data, filename = 'time-series-simple')"
   ]
  },
  {
   "cell_type": "code",
   "execution_count": 18,
   "metadata": {},
   "outputs": [],
   "source": [
    "# 600 rows to train # 214 rows to test\n",
    "data_to_process = sav_data.iloc[:,2:3].values\n",
    "train = data_to_process[:600]\n",
    "test = data_to_process[601:]"
   ]
  },
  {
   "cell_type": "code",
   "execution_count": 20,
   "metadata": {},
   "outputs": [],
   "source": [
    "from sklearn.preprocessing import MinMaxScaler\n",
    "sc = MinMaxScaler(feature_range = (0, 1))\n",
    "\n",
    "training_set_scaled = sc.fit_transform(train)"
   ]
  },
  {
   "cell_type": "code",
   "execution_count": 24,
   "metadata": {},
   "outputs": [],
   "source": [
    "# Creating a data structure with 7 timesteps and t+1 output\n",
    "\n",
    "X_train = []\n",
    "y_train = []\n",
    "for i in range(7, 600):\n",
    "    X_train.append(training_set_scaled[i-7:i, 0])\n",
    "    y_train.append(training_set_scaled[i, 0])\n",
    "X_train, y_train = np.array(X_train), np.array(y_train)"
   ]
  },
  {
   "cell_type": "code",
   "execution_count": 25,
   "metadata": {},
   "outputs": [],
   "source": [
    "X_train = np.reshape(X_train, (X_train.shape[0], X_train.shape[1], 1))\n"
   ]
  },
  {
   "cell_type": "code",
   "execution_count": 26,
   "metadata": {},
   "outputs": [
    {
     "name": "stderr",
     "output_type": "stream",
     "text": [
      "Using TensorFlow backend.\n"
     ]
    }
   ],
   "source": [
    "from keras.models import Sequential\n",
    "from keras.layers import Dense\n",
    "from keras.layers import LSTM"
   ]
  },
  {
   "cell_type": "code",
   "execution_count": 27,
   "metadata": {},
   "outputs": [
    {
     "name": "stdout",
     "output_type": "stream",
     "text": [
      "Epoch 1/100\n",
      "593/593 [==============================] - 8s 13ms/step - loss: 0.0300\n",
      "Epoch 2/100\n",
      "593/593 [==============================] - 0s 355us/step - loss: 0.0143\n",
      "Epoch 3/100\n",
      "593/593 [==============================] - 0s 312us/step - loss: 0.0082\n",
      "Epoch 4/100\n",
      "593/593 [==============================] - 0s 290us/step - loss: 0.0070\n",
      "Epoch 5/100\n",
      "593/593 [==============================] - 0s 297us/step - loss: 0.0069\n",
      "Epoch 6/100\n",
      "593/593 [==============================] - 0s 326us/step - loss: 0.0068\n",
      "Epoch 7/100\n",
      "593/593 [==============================] - 0s 331us/step - loss: 0.0067\n",
      "Epoch 8/100\n",
      "593/593 [==============================] - 0s 300us/step - loss: 0.0067\n",
      "Epoch 9/100\n",
      "593/593 [==============================] - 0s 294us/step - loss: 0.0066\n",
      "Epoch 10/100\n",
      "593/593 [==============================] - 0s 291us/step - loss: 0.0066\n",
      "Epoch 11/100\n",
      "593/593 [==============================] - 0s 389us/step - loss: 0.0065\n",
      "Epoch 12/100\n",
      "593/593 [==============================] - 0s 419us/step - loss: 0.0064\n",
      "Epoch 13/100\n",
      "593/593 [==============================] - 0s 319us/step - loss: 0.0064\n",
      "Epoch 14/100\n",
      "593/593 [==============================] - 0s 320us/step - loss: 0.0064\n",
      "Epoch 15/100\n",
      "593/593 [==============================] - 0s 289us/step - loss: 0.0063\n",
      "Epoch 16/100\n",
      "593/593 [==============================] - 0s 323us/step - loss: 0.0063\n",
      "Epoch 17/100\n",
      "593/593 [==============================] - 0s 319us/step - loss: 0.0063\n",
      "Epoch 18/100\n",
      "593/593 [==============================] - 0s 352us/step - loss: 0.0062\n",
      "Epoch 19/100\n",
      "593/593 [==============================] - 0s 291us/step - loss: 0.0062\n",
      "Epoch 20/100\n",
      "593/593 [==============================] - 0s 300us/step - loss: 0.0062\n",
      "Epoch 21/100\n",
      "593/593 [==============================] - 0s 305us/step - loss: 0.0062\n",
      "Epoch 22/100\n",
      "593/593 [==============================] - 0s 324us/step - loss: 0.0062\n",
      "Epoch 23/100\n",
      "593/593 [==============================] - 0s 335us/step - loss: 0.0062\n",
      "Epoch 24/100\n",
      "593/593 [==============================] - 0s 320us/step - loss: 0.0062\n",
      "Epoch 25/100\n",
      "593/593 [==============================] - 0s 417us/step - loss: 0.0062\n",
      "Epoch 26/100\n",
      "593/593 [==============================] - 0s 336us/step - loss: 0.0061\n",
      "Epoch 27/100\n",
      "593/593 [==============================] - 0s 294us/step - loss: 0.0061\n",
      "Epoch 28/100\n",
      "593/593 [==============================] - 0s 339us/step - loss: 0.0062\n",
      "Epoch 29/100\n",
      "593/593 [==============================] - 0s 388us/step - loss: 0.0061\n",
      "Epoch 30/100\n",
      "593/593 [==============================] - 0s 294us/step - loss: 0.0061\n",
      "Epoch 31/100\n",
      "593/593 [==============================] - 0s 293us/step - loss: 0.0061\n",
      "Epoch 32/100\n",
      "593/593 [==============================] - 0s 310us/step - loss: 0.0061\n",
      "Epoch 33/100\n",
      "593/593 [==============================] - 0s 356us/step - loss: 0.0061\n",
      "Epoch 34/100\n",
      "593/593 [==============================] - 0s 400us/step - loss: 0.0061\n",
      "Epoch 35/100\n",
      "593/593 [==============================] - 0s 384us/step - loss: 0.0061\n",
      "Epoch 36/100\n",
      "593/593 [==============================] - 0s 387us/step - loss: 0.0061\n",
      "Epoch 37/100\n",
      "593/593 [==============================] - 0s 294us/step - loss: 0.0060\n",
      "Epoch 38/100\n",
      "593/593 [==============================] - 0s 300us/step - loss: 0.0061\n",
      "Epoch 39/100\n",
      "593/593 [==============================] - 0s 279us/step - loss: 0.0061\n",
      "Epoch 40/100\n",
      "593/593 [==============================] - 0s 274us/step - loss: 0.0061\n",
      "Epoch 41/100\n",
      "593/593 [==============================] - 0s 278us/step - loss: 0.0061\n",
      "Epoch 42/100\n",
      "593/593 [==============================] - 0s 289us/step - loss: 0.0060\n",
      "Epoch 43/100\n",
      "593/593 [==============================] - 0s 275us/step - loss: 0.0060\n",
      "Epoch 44/100\n",
      "593/593 [==============================] - 0s 326us/step - loss: 0.0060\n",
      "Epoch 45/100\n",
      "593/593 [==============================] - 0s 274us/step - loss: 0.0060\n",
      "Epoch 46/100\n",
      "593/593 [==============================] - 0s 284us/step - loss: 0.0060\n",
      "Epoch 47/100\n",
      "593/593 [==============================] - 0s 266us/step - loss: 0.0060\n",
      "Epoch 48/100\n",
      "593/593 [==============================] - 0s 290us/step - loss: 0.0060\n",
      "Epoch 49/100\n",
      "593/593 [==============================] - 0s 299us/step - loss: 0.0060\n",
      "Epoch 50/100\n",
      "593/593 [==============================] - 0s 271us/step - loss: 0.0060\n",
      "Epoch 51/100\n",
      "593/593 [==============================] - 0s 267us/step - loss: 0.0060\n",
      "Epoch 52/100\n",
      "593/593 [==============================] - 0s 273us/step - loss: 0.0060\n",
      "Epoch 53/100\n",
      "593/593 [==============================] - 0s 267us/step - loss: 0.0060\n",
      "Epoch 54/100\n",
      "593/593 [==============================] - 0s 283us/step - loss: 0.0060\n",
      "Epoch 55/100\n",
      "593/593 [==============================] - 0s 270us/step - loss: 0.0060\n",
      "Epoch 56/100\n",
      "593/593 [==============================] - 0s 296us/step - loss: 0.0059\n",
      "Epoch 57/100\n",
      "593/593 [==============================] - 0s 265us/step - loss: 0.0060\n",
      "Epoch 58/100\n",
      "593/593 [==============================] - 0s 265us/step - loss: 0.0059\n",
      "Epoch 59/100\n",
      "593/593 [==============================] - 0s 280us/step - loss: 0.0060\n",
      "Epoch 60/100\n",
      "593/593 [==============================] - 0s 292us/step - loss: 0.0060\n",
      "Epoch 61/100\n",
      "593/593 [==============================] - 0s 268us/step - loss: 0.0060\n",
      "Epoch 62/100\n",
      "593/593 [==============================] - 0s 310us/step - loss: 0.0059\n",
      "Epoch 63/100\n",
      "593/593 [==============================] - 0s 269us/step - loss: 0.0060\n",
      "Epoch 64/100\n",
      "593/593 [==============================] - 0s 267us/step - loss: 0.0059\n",
      "Epoch 65/100\n",
      "593/593 [==============================] - 0s 265us/step - loss: 0.0059\n",
      "Epoch 66/100\n",
      "593/593 [==============================] - 0s 315us/step - loss: 0.0059\n",
      "Epoch 67/100\n",
      "593/593 [==============================] - 0s 317us/step - loss: 0.0059\n",
      "Epoch 68/100\n",
      "593/593 [==============================] - 0s 297us/step - loss: 0.0059\n",
      "Epoch 69/100\n",
      "593/593 [==============================] - 0s 268us/step - loss: 0.0059\n",
      "Epoch 70/100\n",
      "593/593 [==============================] - 0s 272us/step - loss: 0.0059\n",
      "Epoch 71/100\n",
      "593/593 [==============================] - 0s 265us/step - loss: 0.0059\n",
      "Epoch 72/100\n",
      "593/593 [==============================] - 0s 283us/step - loss: 0.0059\n",
      "Epoch 73/100\n",
      "593/593 [==============================] - 0s 304us/step - loss: 0.0059\n",
      "Epoch 74/100\n",
      "593/593 [==============================] - 0s 288us/step - loss: 0.0059\n",
      "Epoch 75/100\n",
      "593/593 [==============================] - 0s 273us/step - loss: 0.0059\n",
      "Epoch 76/100\n",
      "593/593 [==============================] - 0s 273us/step - loss: 0.0059\n",
      "Epoch 77/100\n",
      "593/593 [==============================] - 0s 276us/step - loss: 0.0059\n",
      "Epoch 78/100\n",
      "593/593 [==============================] - 0s 281us/step - loss: 0.0059\n",
      "Epoch 79/100\n",
      "593/593 [==============================] - 0s 294us/step - loss: 0.0059\n",
      "Epoch 80/100\n",
      "593/593 [==============================] - 0s 271us/step - loss: 0.0058\n",
      "Epoch 81/100\n",
      "593/593 [==============================] - 0s 265us/step - loss: 0.0058\n",
      "Epoch 82/100\n",
      "593/593 [==============================] - 0s 264us/step - loss: 0.0058\n",
      "Epoch 83/100\n",
      "593/593 [==============================] - 0s 358us/step - loss: 0.0059\n",
      "Epoch 84/100\n",
      "593/593 [==============================] - 0s 278us/step - loss: 0.0058\n",
      "Epoch 85/100\n",
      "593/593 [==============================] - 0s 299us/step - loss: 0.0058\n",
      "Epoch 86/100\n",
      "593/593 [==============================] - 0s 266us/step - loss: 0.0058\n",
      "Epoch 87/100\n",
      "593/593 [==============================] - 0s 354us/step - loss: 0.0058\n",
      "Epoch 88/100\n",
      "593/593 [==============================] - 0s 267us/step - loss: 0.0058\n",
      "Epoch 89/100\n",
      "593/593 [==============================] - 0s 274us/step - loss: 0.0058\n",
      "Epoch 90/100\n",
      "593/593 [==============================] - 0s 272us/step - loss: 0.0058\n",
      "Epoch 91/100\n",
      "593/593 [==============================] - 0s 296us/step - loss: 0.0058\n",
      "Epoch 92/100\n",
      "593/593 [==============================] - 0s 265us/step - loss: 0.0057\n",
      "Epoch 93/100\n",
      "593/593 [==============================] - 0s 265us/step - loss: 0.0057\n",
      "Epoch 94/100\n",
      "593/593 [==============================] - 0s 266us/step - loss: 0.0058\n",
      "Epoch 95/100\n",
      "593/593 [==============================] - 0s 273us/step - loss: 0.0057\n",
      "Epoch 96/100\n",
      "593/593 [==============================] - 0s 319us/step - loss: 0.0058\n",
      "Epoch 97/100\n"
     ]
    },
    {
     "name": "stdout",
     "output_type": "stream",
     "text": [
      "593/593 [==============================] - 0s 320us/step - loss: 0.0057\n",
      "Epoch 98/100\n",
      "593/593 [==============================] - 0s 266us/step - loss: 0.0057\n",
      "Epoch 99/100\n",
      "593/593 [==============================] - 0s 266us/step - loss: 0.0057\n",
      "Epoch 100/100\n",
      "593/593 [==============================] - 0s 284us/step - loss: 0.0057\n"
     ]
    }
   ],
   "source": [
    "regressor = Sequential()\n",
    "regressor.add(LSTM(units = 3, input_shape = (None, 1)))\n",
    "regressor.add(Dense(units = 1))\n",
    "regressor.compile(optimizer = 'rmsprop', loss = 'mean_squared_error')\n",
    "history = regressor.fit(X_train, y_train, epochs = 100, batch_size = 32)"
   ]
  },
  {
   "cell_type": "code",
   "execution_count": 31,
   "metadata": {},
   "outputs": [
    {
     "data": {
      "text/plain": [
       "713"
      ]
     },
     "execution_count": 31,
     "metadata": {},
     "output_type": "execute_result"
    }
   ],
   "source": [
    "test = sc.fit_transform(test)\n",
    "test_full = np.concatenate((train[0:600], test), axis = 0)"
   ]
  },
  {
   "cell_type": "code",
   "execution_count": 32,
   "metadata": {},
   "outputs": [],
   "source": [
    "inputs = []\n",
    "for i in range(601, 714):\n",
    "    inputs.append(test_full[i-7:i, 0])\n",
    "inputs = np.array(inputs)\n",
    "inputs = np.reshape(inputs, (inputs.shape[0], inputs.shape[1], 1))\n",
    "predicted = regressor.predict(inputs)\n",
    "predicted_price = sc.inverse_transform(predicted)"
   ]
  },
  {
   "cell_type": "code",
   "execution_count": 40,
   "metadata": {},
   "outputs": [
    {
     "data": {
      "image/png": "[encoded data removed]",
      "text/plain": [
       "<Figure size 432x288 with 1 Axes>"
      ]
     },
     "metadata": {
      "needs_background": "light"
     },
     "output_type": "display_data"
    }
   ],
   "source": [
    "plt.plot(test_full[601:], color = 'red', label = 'Actual Price')\n",
    "plt.plot(predicted_price, color = 'blue', label = 'Predicted Price')\n",
    "plt.title('Prediction of Sales')\n",
    "plt.xlabel('Time')\n",
    "plt.ylabel('Price')\n",
    "plt.legend()\n",
    "plt.show()"
   ]
  },
  {
   "cell_type": "code",
   "execution_count": null,
   "metadata": {},
   "outputs": [],
   "source": []
  }
 ],
 "metadata": {
  "kernelspec": {
   "display_name": "Python 3",
   "language": "python",
   "name": "python3"
  },
  "language_info": {
   "codemirror_mode": {
    "name": "ipython",
    "version": 3
   },
   "file_extension": ".py",
   "mimetype": "text/x-python",
   "name": "python",
   "nbconvert_exporter": "python",
   "pygments_lexer": "ipython3",
   "version": "3.6.7"
  }
 },
 "nbformat": 4,
 "nbformat_minor": 2
}
