{
 "cells": [
  {
   "cell_type": "code",
   "execution_count": 1,
   "metadata": {},
   "outputs": [
    {
     "name": "stderr",
     "output_type": "stream",
     "text": [
      "ERROR:root:No traceback has been produced, nothing to debug.\n"
     ]
    }
   ],
   "source": [
    "%load_ext autoreload\n",
    "%autoreload 2\n",
    "%matplotlib inline\n",
    "\n",
    "%debug"
   ]
  },
  {
   "cell_type": "code",
   "execution_count": 103,
   "metadata": {},
   "outputs": [],
   "source": [
    "import pandas as pd\n",
    "import pandas_profiling\n",
    "\n",
    "import numpy as np\n",
    "\n",
    "import seaborn as sns\n",
    "sns.set()\n",
    "\n",
    "from math import sqrt\n",
    "\n",
    "from keras.models import Sequential\n",
    "from keras.layers import Dense\n",
    "from keras.layers import LSTM\n",
    "\n",
    "from sklearn.metrics import mean_squared_error\n",
    "from sklearn.metrics import mean_absolute_error\n",
    "\n",
    "\n",
    "from sklearn.preprocessing import MinMaxScaler\n",
    "sc = MinMaxScaler(feature_range = (0, 1))\n",
    "\n",
    "import plotly.plotly as py\n",
    "import plotly.graph_objs as go\n",
    "\n",
    "import matplotlib.pyplot as plt"
   ]
  },
  {
   "cell_type": "code",
   "execution_count": 3,
   "metadata": {},
   "outputs": [],
   "source": [
    "data = pd.read_csv(\"../../data/Sales_Multiseries_training.csv\")"
   ]
  },
  {
   "cell_type": "code",
   "execution_count": 107,
   "metadata": {},
   "outputs": [],
   "source": [
    "def build_model_and_evaluate(X_train, y_train, X_test, y_test):\n",
    "    \n",
    "    regressor = Sequential()\n",
    "    regressor.add(LSTM(units = 3, input_shape = (None, 1)))\n",
    "    regressor.add(Dense(units = 1))\n",
    "    regressor.compile(optimizer = 'adam', loss = 'mean_squared_error')\n",
    "    history = regressor.fit(X_train, y_train, epochs = 100, batch_size = 32, verbose=0)\n",
    "    \n",
    "    inputs = np.array(X_test)\n",
    "    inputs = np.reshape(inputs, (inputs.shape[0], inputs.shape[1], 1))\n",
    "    predicted = regressor.predict(inputs)\n",
    "    predicted_price = sc.inverse_transform(predicted)\n",
    "    \n",
    "    rmse = sqrt(mean_squared_error(y_test, predicted_price))\n",
    "    print(rmse)"
   ]
  },
  {
   "cell_type": "code",
   "execution_count": 108,
   "metadata": {},
   "outputs": [],
   "source": [
    "# lets bring in the the week when the sale happened\n",
    "data[\"date_\"] = pd.to_datetime(arg=data.Date)"
   ]
  },
  {
   "cell_type": "code",
   "execution_count": 109,
   "metadata": {},
   "outputs": [],
   "source": [
    "def build_data_for_walk_forward_validation(data, storename, date):\n",
    "    store_data = data[data.Store == storename]\n",
    "    \n",
    "    store_data_train = store_data[store_data.date_ < date].iloc[:,2:3].values\n",
    "    store_data_test = store_data[store_data.date_ >= date].iloc[:,2:3].values\n",
    "    \n",
    "    store_data_train_scaled = sc.fit_transform(store_data_train)\n",
    "    \n",
    "    # using original values from store data\n",
    "    X_test_with_prev_data = sc.transform(store_data.iloc[:,2:3].values)\n",
    "    \n",
    "    # actual values to compare with\n",
    "    y_test = store_data_test\n",
    "    \n",
    "    \n",
    "    X_train = []\n",
    "    y_train = []\n",
    "    for i in range(7, len(store_data_train_scaled)):\n",
    "        X_train.append(store_data_train_scaled[i-7:i, 0])\n",
    "        y_train.append(store_data_train_scaled[i, 0])\n",
    "        \n",
    "    X_train, y_train = np.array(X_train), np.array(y_train)\n",
    "    X_train = np.reshape(X_train, (X_train.shape[0], X_train.shape[1], 1))\n",
    "    \n",
    "#     # Test data\n",
    "    X_test = []\n",
    "    for i in range(len(store_data_train_scaled), len(store_data)):\n",
    "        X_test.append(X_test_with_prev_data[i-7:i, 0])\n",
    "            \n",
    "    build_model_and_evaluate(X_train, y_train, X_test, y_test)"
   ]
  },
  {
   "cell_type": "code",
   "execution_count": 110,
   "metadata": {},
   "outputs": [
    {
     "name": "stdout",
     "output_type": "stream",
     "text": [
      "18680.236157082847\n",
      "17645.185704640127\n",
      "17024.80077469559\n",
      "17652.945795409825\n",
      "19579.244751112616\n"
     ]
    }
   ],
   "source": [
    "build_data_for_walk_forward_validation(data, \"Savannah\", \"2014-01-01\")\n",
    "build_data_for_walk_forward_validation(data, \"Savannah\", \"2014-02-01\")\n",
    "build_data_for_walk_forward_validation(data, \"Savannah\", \"2014-03-01\")\n",
    "build_data_for_walk_forward_validation(data, \"Savannah\", \"2014-04-01\")\n",
    "build_data_for_walk_forward_validation(data, \"Savannah\", \"2014-05-01\")"
   ]
  },
  {
   "cell_type": "code",
   "execution_count": null,
   "metadata": {},
   "outputs": [],
   "source": []
  }
 ],
 "metadata": {
  "kernelspec": {
   "display_name": "Python 3",
   "language": "python",
   "name": "python3"
  },
  "language_info": {
   "codemirror_mode": {
    "name": "ipython",
    "version": 3
   },
   "file_extension": ".py",
   "mimetype": "text/x-python",
   "name": "python",
   "nbconvert_exporter": "python",
   "pygments_lexer": "ipython3",
   "version": "3.6.7"
  }
 },
 "nbformat": 4,
 "nbformat_minor": 2
}
